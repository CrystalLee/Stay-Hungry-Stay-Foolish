{
 "cells": [
  {
   "cell_type": "markdown",
   "metadata": {},
   "source": [
    "# Case: Pricing a Single Flight\n",
    "\n",
    "SHOPAIRLINES airlines is examining its policy in pricing its TPE to HK departure on Sunday evenings. The selling horizon is the 180 days before depature. Based on studies done by the marketing team, there are two main customer segments who purchase this flight. Below are some summary statistics.\n",
    "\n",
    "Segment 1 (\"Leisure\" customers):\n",
    "\n",
    "- Size of customer segment: 20\n",
    "- Time of purchasing: approximately uniformly randomly from 180 days before departure to departure.\n",
    "- Maximum willingness to pay: mean 6,000, st. dev. 2,400.\n",
    "\n",
    "Segment 2 (\"Business\" customers):\n",
    "\n",
    "- Size: 6\n",
    "- Time of purchasing: uniformly randomly from 14 days before departure to departure.\n",
    "- Maximum willingness to pay: mean 10,000, st. dev. 3,500.\n",
    "\n",
    "There are 10 seats on this flight (all economy class) and the fixed cost for operating each time is about $60,000.\n",
    "\n",
    "Currently the price of the flight is held fixed throughout the 180 day selling horizon (from 180 days before departure to just before departure). However, COO Fifi would like to explore the potential benefits of implementing revenue management (RM) techniques to improve profits.\n",
    "\n",
    "**RM policy 1:** increase the price for the last 14 days.\n",
    "\n",
    "**RM policy 2:** increase the price after a certain number of tickets have been sold.\n",
    "\n",
    "As a result, she rushed to Effia, data manager at SHOPAIRLINES, asking for a quick response. Please pretend that you're a data analyst at SHOPAIRLINES and help Effia to solve this problem."
   ]
  },
  {
   "cell_type": "code",
   "execution_count": null,
   "metadata": {},
   "outputs": [],
   "source": [
    "import numpy as np"
   ]
  },
  {
   "cell_type": "markdown",
   "metadata": {},
   "source": [
    "#### Time of purchasing of Segment 1 (\"Leisure\" customers)"
   ]
  },
  {
   "cell_type": "code",
   "execution_count": 45,
   "metadata": {},
   "outputs": [],
   "source": [
    "buyTimes1 = np.array([108, 98, 76, 116, 78, 160, 173, 69, 142, 95, 102, 166, 12, 15, 3, 149, 140, 156, 176, 143])"
   ]
  },
  {
   "cell_type": "markdown",
   "metadata": {},
   "source": [
    "#### Time of purchasing of Segment 2 (\"Business\" customers)"
   ]
  },
  {
   "cell_type": "code",
   "execution_count": 48,
   "metadata": {},
   "outputs": [],
   "source": [
    "buyTimes2 = np.array([6, 7, 0, 8, 10, 9])"
   ]
  },
  {
   "cell_type": "markdown",
   "metadata": {},
   "source": [
    "#### Maximum willingness to pay of Segment 1 (\"Leisure\" customers)"
   ]
  },
  {
   "cell_type": "code",
   "execution_count": 50,
   "metadata": {},
   "outputs": [],
   "source": [
    "values1 = np.array([6371, 6907, 3869, 1246, 5165, 6375, 8952, 8885, 5070, 5274, 3483, 2591, 1904, 10681, 4776, 4948, 2993, 7865, 2126, 5489])"
   ]
  },
  {
   "cell_type": "markdown",
   "metadata": {},
   "source": [
    "#### Maximum wollingness to pay of Segment 2 (\"Business\" customers)"
   ]
  },
  {
   "cell_type": "code",
   "execution_count": 52,
   "metadata": {},
   "outputs": [],
   "source": [
    "values2 = np.array([7646, 8741, 7153, 3958, 10620, 8593])"
   ]
  },
  {
   "cell_type": "markdown",
   "metadata": {},
   "source": [
    "### Exercise 1: Create data array\n",
    "Use Numpy manipulating functions to create a data array for analysis. The first row corresponds to the number of days before departure that the customer buys the flight, with the first column being the first customer, the second the second customer and so on. The second row records the willingness to pay of each customer.\n",
    "<br>\n",
    "Expected outcome: 2 x 26 two-dimensional array ([t1, t2, ......], [v1, v2, ......])"
   ]
  },
  {
   "cell_type": "code",
   "execution_count": null,
   "metadata": {},
   "outputs": [],
   "source": [
    "data = "
   ]
  },
  {
   "cell_type": "markdown",
   "metadata": {},
   "source": [
    "### Exercise 2: Sort data\n",
    "Sort data by time of purchasing in descending order.\n",
    "<br>\n",
    "Expected outcomes: ([176, ......, 0], [2126, ......, 7153])\n",
    "<br>\n",
    "hint: use argsort()"
   ]
  },
  {
   "cell_type": "code",
   "execution_count": null,
   "metadata": {},
   "outputs": [],
   "source": [
    "data_sort = "
   ]
  },
  {
   "cell_type": "markdown",
   "metadata": {},
   "source": [
    "### Exercise 3: Calculate Profit for constant price\n",
    "Given the scenario specified and data set defined above, what's the profit from implementing constant price policy with price = 7000"
   ]
  },
  {
   "cell_type": "code",
   "execution_count": null,
   "metadata": {},
   "outputs": [],
   "source": []
  },
  {
   "cell_type": "markdown",
   "metadata": {},
   "source": [
    "### Exercise 4: Optimization analysis for best constant price\n",
    "What's the best price and its corresponding profit under current constant price policy? (Assume that the price is a multiple of 100 dollars, and that the optimal such price is used. )\n",
    "<br>\n",
    "hint: use index()"
   ]
  },
  {
   "cell_type": "code",
   "execution_count": null,
   "metadata": {},
   "outputs": [],
   "source": [
    "prices=range(4000,9001,100)\n",
    "\n"
   ]
  },
  {
   "cell_type": "markdown",
   "metadata": {},
   "source": [
    "### Exercise 5: Calculate profit for RM policy 1\n",
    "Given the scenario specified and data set defined above, what's the profit from implementing RM policy 1 with price1 (price before 14 days to departure) = 6000, price 2 (price for the last 14 days) = 7500"
   ]
  },
  {
   "cell_type": "code",
   "execution_count": null,
   "metadata": {},
   "outputs": [],
   "source": []
  },
  {
   "cell_type": "markdown",
   "metadata": {},
   "source": [
    "### Exercise 6: Optimization analysis for best RM policy 1\n",
    "What's the best price1 and price2 and their corresponding profit under RM policy 1? (Assume that the price is a multiple of 100 dollars, and that the optimal such price is used.)"
   ]
  },
  {
   "cell_type": "code",
   "execution_count": null,
   "metadata": {},
   "outputs": [],
   "source": [
    "\n",
    "for price1 in range(4500, 15001, 100):\n",
    "    for price2 in range(price1, 15001, 100):\n",
    "        "
   ]
  },
  {
   "cell_type": "markdown",
   "metadata": {},
   "source": [
    "### Exercise 7 (Optional): Calculate profit for RM policy 2\n",
    "Given the scenario specified and data set defined above, what's the profit from implementing RM policy 2 with price1 (initial price) = 6000, price 2 (later price) = 7500, and quantity (quantity to sell before increasing price) = 5"
   ]
  },
  {
   "cell_type": "code",
   "execution_count": null,
   "metadata": {},
   "outputs": [],
   "source": []
  },
  {
   "cell_type": "markdown",
   "metadata": {},
   "source": [
    "### Exercise 8 (Optional): Optimization analysis for best RM policy 2\n",
    "What's the best price1, price2, quantity and their corresponding profit under RM policy 2? (Assume that the price is a multiple of 100 dollars, and that the optimal such price is used. )"
   ]
  },
  {
   "cell_type": "code",
   "execution_count": null,
   "metadata": {},
   "outputs": [],
   "source": [
    "\n",
    "for price1 in range(6750, 7351, 100):\n",
    "    for price2 in range(8700, 10001, 100):\n"
   ]
  }
 ],
 "metadata": {
  "kernelspec": {
   "display_name": "Python 3",
   "language": "python",
   "name": "python3"
  },
  "language_info": {
   "codemirror_mode": {
    "name": "ipython",
    "version": 3
   },
   "file_extension": ".py",
   "mimetype": "text/x-python",
   "name": "python",
   "nbconvert_exporter": "python",
   "pygments_lexer": "ipython3",
   "version": "3.7.4"
  }
 },
 "nbformat": 4,
 "nbformat_minor": 2
}
